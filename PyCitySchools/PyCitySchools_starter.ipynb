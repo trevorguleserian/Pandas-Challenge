{
 "cells": [
  {
   "cell_type": "markdown",
   "metadata": {},
   "source": [
    "### Note\n",
    "* Instructions have been included for each segment. You do not have to follow them exactly, but they are included to help you think through the steps."
   ]
  },
  {
   "cell_type": "markdown",
   "metadata": {},
   "source": [
    "## District Summary\n",
    "\n",
    "* Calculate the total number of schools\n",
    "\n",
    "* Calculate the total number of students\n",
    "\n",
    "* Calculate the total budget\n",
    "\n",
    "* Calculate the average math score \n",
    "\n",
    "* Calculate the average reading score\n",
    "\n",
    "* Calculate the percentage of students with a passing math score (70 or greater)\n",
    "\n",
    "* Calculate the percentage of students with a passing reading score (70 or greater)\n",
    "\n",
    "* Calculate the percentage of students who passed math **and** reading (% Overall Passing)\n",
    "\n",
    "* Create a dataframe to hold the above results\n",
    "\n",
    "* Optional: give the displayed data cleaner formatting"
   ]
  },
  {
   "cell_type": "code",
   "execution_count": 25,
   "metadata": {},
   "outputs": [
    {
     "data": {
      "text/html": [
       "<div>\n",
       "<style scoped>\n",
       "    .dataframe tbody tr th:only-of-type {\n",
       "        vertical-align: middle;\n",
       "    }\n",
       "\n",
       "    .dataframe tbody tr th {\n",
       "        vertical-align: top;\n",
       "    }\n",
       "\n",
       "    .dataframe thead th {\n",
       "        text-align: right;\n",
       "    }\n",
       "</style>\n",
       "<table border=\"1\" class=\"dataframe\">\n",
       "  <thead>\n",
       "    <tr style=\"text-align: right;\">\n",
       "      <th></th>\n",
       "      <th>Student ID</th>\n",
       "      <th>student_name</th>\n",
       "      <th>gender</th>\n",
       "      <th>grade</th>\n",
       "      <th>school_name</th>\n",
       "      <th>reading_score</th>\n",
       "      <th>math_score</th>\n",
       "      <th>School ID</th>\n",
       "      <th>type</th>\n",
       "      <th>size</th>\n",
       "      <th>budget</th>\n",
       "    </tr>\n",
       "  </thead>\n",
       "  <tbody>\n",
       "    <tr>\n",
       "      <td>0</td>\n",
       "      <td>0</td>\n",
       "      <td>Paul Bradley</td>\n",
       "      <td>M</td>\n",
       "      <td>9th</td>\n",
       "      <td>Huang High School</td>\n",
       "      <td>66</td>\n",
       "      <td>79</td>\n",
       "      <td>0</td>\n",
       "      <td>District</td>\n",
       "      <td>2917</td>\n",
       "      <td>1910635</td>\n",
       "    </tr>\n",
       "    <tr>\n",
       "      <td>1</td>\n",
       "      <td>1</td>\n",
       "      <td>Victor Smith</td>\n",
       "      <td>M</td>\n",
       "      <td>12th</td>\n",
       "      <td>Huang High School</td>\n",
       "      <td>94</td>\n",
       "      <td>61</td>\n",
       "      <td>0</td>\n",
       "      <td>District</td>\n",
       "      <td>2917</td>\n",
       "      <td>1910635</td>\n",
       "    </tr>\n",
       "    <tr>\n",
       "      <td>2</td>\n",
       "      <td>2</td>\n",
       "      <td>Kevin Rodriguez</td>\n",
       "      <td>M</td>\n",
       "      <td>12th</td>\n",
       "      <td>Huang High School</td>\n",
       "      <td>90</td>\n",
       "      <td>60</td>\n",
       "      <td>0</td>\n",
       "      <td>District</td>\n",
       "      <td>2917</td>\n",
       "      <td>1910635</td>\n",
       "    </tr>\n",
       "    <tr>\n",
       "      <td>3</td>\n",
       "      <td>3</td>\n",
       "      <td>Dr. Richard Scott</td>\n",
       "      <td>M</td>\n",
       "      <td>12th</td>\n",
       "      <td>Huang High School</td>\n",
       "      <td>67</td>\n",
       "      <td>58</td>\n",
       "      <td>0</td>\n",
       "      <td>District</td>\n",
       "      <td>2917</td>\n",
       "      <td>1910635</td>\n",
       "    </tr>\n",
       "    <tr>\n",
       "      <td>4</td>\n",
       "      <td>4</td>\n",
       "      <td>Bonnie Ray</td>\n",
       "      <td>F</td>\n",
       "      <td>9th</td>\n",
       "      <td>Huang High School</td>\n",
       "      <td>97</td>\n",
       "      <td>84</td>\n",
       "      <td>0</td>\n",
       "      <td>District</td>\n",
       "      <td>2917</td>\n",
       "      <td>1910635</td>\n",
       "    </tr>\n",
       "  </tbody>\n",
       "</table>\n",
       "</div>"
      ],
      "text/plain": [
       "   Student ID       student_name gender grade        school_name  \\\n",
       "0           0       Paul Bradley      M   9th  Huang High School   \n",
       "1           1       Victor Smith      M  12th  Huang High School   \n",
       "2           2    Kevin Rodriguez      M  12th  Huang High School   \n",
       "3           3  Dr. Richard Scott      M  12th  Huang High School   \n",
       "4           4         Bonnie Ray      F   9th  Huang High School   \n",
       "\n",
       "   reading_score  math_score  School ID      type  size   budget  \n",
       "0             66          79          0  District  2917  1910635  \n",
       "1             94          61          0  District  2917  1910635  \n",
       "2             90          60          0  District  2917  1910635  \n",
       "3             67          58          0  District  2917  1910635  \n",
       "4             97          84          0  District  2917  1910635  "
      ]
     },
     "execution_count": 25,
     "metadata": {},
     "output_type": "execute_result"
    }
   ],
   "source": [
    "# Dependencies and Setup\n",
    "import pandas as pd\n",
    "\n",
    "# File to Load\n",
    "school_data_to_load = \"Resources/schools_complete.csv\"\n",
    "student_data_to_load = \"Resources/students_complete.csv\"\n",
    "\n",
    "# Read School and Student Data File and store into Pandas DataFrames\n",
    "school_data = pd.read_csv(school_data_to_load)\n",
    "student_data = pd.read_csv(student_data_to_load)\n",
    "\n",
    "# Combine the data into a single dataset.  \n",
    "school_data_complete_df = pd.merge(student_data, school_data, how=\"left\", on=[\"school_name\", \"school_name\"])\n",
    "\n",
    "\n",
    "school_data_complete_df.head()\n",
    "\n"
   ]
  },
  {
   "cell_type": "code",
   "execution_count": 26,
   "metadata": {},
   "outputs": [
    {
     "data": {
      "text/html": [
       "<div>\n",
       "<style scoped>\n",
       "    .dataframe tbody tr th:only-of-type {\n",
       "        vertical-align: middle;\n",
       "    }\n",
       "\n",
       "    .dataframe tbody tr th {\n",
       "        vertical-align: top;\n",
       "    }\n",
       "\n",
       "    .dataframe thead th {\n",
       "        text-align: right;\n",
       "    }\n",
       "</style>\n",
       "<table border=\"1\" class=\"dataframe\">\n",
       "  <thead>\n",
       "    <tr style=\"text-align: right;\">\n",
       "      <th></th>\n",
       "      <th>Total Schools</th>\n",
       "      <th>Total Students</th>\n",
       "      <th>Total Budget</th>\n",
       "      <th>Average Math Score</th>\n",
       "      <th>Average Reading Score</th>\n",
       "      <th>Passing Math Percentage</th>\n",
       "      <th>Passing Reading Percentage</th>\n",
       "      <th>Passing Overall Percentage</th>\n",
       "    </tr>\n",
       "  </thead>\n",
       "  <tbody>\n",
       "    <tr>\n",
       "      <td>0</td>\n",
       "      <td>15</td>\n",
       "      <td>39170</td>\n",
       "      <td>24649428.0</td>\n",
       "      <td>78.985371</td>\n",
       "      <td>81.87784</td>\n",
       "      <td>74.980853</td>\n",
       "      <td>85.805463</td>\n",
       "      <td>65.172326</td>\n",
       "    </tr>\n",
       "  </tbody>\n",
       "</table>\n",
       "</div>"
      ],
      "text/plain": [
       "   Total Schools  Total Students  Total Budget  Average Math Score  \\\n",
       "0             15           39170    24649428.0           78.985371   \n",
       "\n",
       "   Average Reading Score  Passing Math Percentage  Passing Reading Percentage  \\\n",
       "0               81.87784                74.980853                   85.805463   \n",
       "\n",
       "   Passing Overall Percentage  \n",
       "0                   65.172326  "
      ]
     },
     "execution_count": 26,
     "metadata": {},
     "output_type": "execute_result"
    }
   ],
   "source": [
    "# Calculating feilds\n",
    "total_schools = len(school_data_complete_df[\"school_name\"].unique())\n",
    "total_students = school_data_complete_df[\"school_name\"].count()\n",
    "total_budget_unique = school_data_complete_df[\"budget\"].unique().astype(float)\n",
    "total_budget = sum(total_budget_unique)\n",
    "average_math = school_data_complete_df[\"math_score\"].mean()\n",
    "average_reading = school_data_complete_df[\"reading_score\"].mean()\n",
    "\n",
    "passing_mscore_df = school_data_complete_df.loc[school_data_complete_df[\"math_score\"] >= 70,:]\n",
    "passing_rscore_df = school_data_complete_df.loc[school_data_complete_df[\"reading_score\"] >= 70,:]\n",
    "passing_oscore_df = school_data_complete_df.loc[(school_data_complete_df[\"math_score\"] >= 70) & (school_data_complete_df[\"reading_score\"] >= 70),:]\n",
    "\n",
    "\n",
    "\n",
    "passing_math = (len(passing_mscore_df[\"student_name\"]) / total_students) * 100\n",
    "passing_reading = (len(passing_rscore_df[\"student_name\"]) / total_students) * 100 \n",
    "passing_overall = (len(passing_oscore_df[\"student_name\"])/ total_students) * 100\n",
    "\n",
    " \n",
    "# Creating New df\n",
    "district_summary_df = pd.DataFrame({\"Total Schools\": total_schools,\n",
    "                                    \"Total Students\": total_students,\n",
    "                                    \"Total Budget\": total_budget,\n",
    "                                    \"Average Math Score\": [average_math],\n",
    "                                    \"Average Reading Score\": average_reading,\n",
    "                                    \"Passing Math Percentage\": [passing_math],\n",
    "                                    \"Passing Reading Percentage\": [passing_reading],\n",
    "                                    \"Passing Overall Percentage\": [passing_overall]})\n",
    "\n",
    "\n",
    "district_summary_df"
   ]
  },
  {
   "cell_type": "markdown",
   "metadata": {},
   "source": [
    "## School Summary"
   ]
  },
  {
   "cell_type": "markdown",
   "metadata": {},
   "source": [
    "* Create an overview table that summarizes key metrics about each school, including:\n",
    "  * School Name\n",
    "  * School Type\n",
    "  * Total Students\n",
    "  * Total School Budget\n",
    "  * Per Student Budget\n",
    "  * Average Math Score\n",
    "  * Average Reading Score\n",
    "  * % Passing Math\n",
    "  * % Passing Reading\n",
    "  * % Overall Passing (The percentage of students that passed math **and** reading.)\n",
    "  \n",
    "* Create a dataframe to hold the above results"
   ]
  },
  {
   "cell_type": "code",
   "execution_count": 27,
   "metadata": {},
   "outputs": [
    {
     "ename": "NameError",
     "evalue": "name 'school_data_complete' is not defined",
     "output_type": "error",
     "traceback": [
      "\u001b[1;31m---------------------------------------------------------------------------\u001b[0m",
      "\u001b[1;31mNameError\u001b[0m                                 Traceback (most recent call last)",
      "\u001b[1;32m<ipython-input-27-ba9cbb36c58f>\u001b[0m in \u001b[0;36m<module>\u001b[1;34m\u001b[0m\n\u001b[0;32m     16\u001b[0m \u001b[1;33m\u001b[0m\u001b[0m\n\u001b[0;32m     17\u001b[0m \u001b[1;31m# Get the students who passed math and passed reading by creating separate filtered DataFrames.\u001b[0m\u001b[1;33m\u001b[0m\u001b[1;33m\u001b[0m\u001b[1;33m\u001b[0m\u001b[0m\n\u001b[1;32m---> 18\u001b[1;33m \u001b[0mschool_passing_math\u001b[0m \u001b[1;33m=\u001b[0m \u001b[0mschool_data_complete_df\u001b[0m\u001b[1;33m[\u001b[0m\u001b[1;33m(\u001b[0m\u001b[0mschool_data_complete\u001b[0m\u001b[1;33m[\u001b[0m\u001b[1;34m\"math_score\"\u001b[0m\u001b[1;33m]\u001b[0m \u001b[1;33m>=\u001b[0m \u001b[1;36m70\u001b[0m\u001b[1;33m)\u001b[0m\u001b[1;33m]\u001b[0m\u001b[1;33m\u001b[0m\u001b[1;33m\u001b[0m\u001b[0m\n\u001b[0m\u001b[0;32m     19\u001b[0m \u001b[0mschool_passing_reading\u001b[0m \u001b[1;33m=\u001b[0m \u001b[0mschool_data_complete_df\u001b[0m\u001b[1;33m[\u001b[0m\u001b[1;33m(\u001b[0m\u001b[0mschool_data_complete\u001b[0m\u001b[1;33m[\u001b[0m\u001b[1;34m\"reading_score\"\u001b[0m\u001b[1;33m]\u001b[0m \u001b[1;33m>=\u001b[0m \u001b[1;36m70\u001b[0m\u001b[1;33m)\u001b[0m\u001b[1;33m]\u001b[0m\u001b[1;33m\u001b[0m\u001b[1;33m\u001b[0m\u001b[0m\n\u001b[0;32m     20\u001b[0m \u001b[1;33m\u001b[0m\u001b[0m\n",
      "\u001b[1;31mNameError\u001b[0m: name 'school_data_complete' is not defined"
     ]
    }
   ],
   "source": [
    "# Determine the School Type\n",
    "school_types = school_data_complete_df.set_index([\"school_name\"])[\"type\"]\n",
    "\n",
    "# Calculate the total student count\n",
    "per_school_counts = school_data_complete_df[\"school_name\"].value_counts()\n",
    "\n",
    "# Calculate the total school budget and per capita spending\n",
    "# per_school_budget = school_data_complete.groupby([\"school_name\"]).mean()[\"budget\"]\n",
    "per_school_budget = school_data_complete_df.groupby([\"school_name\"]).mean()[\"budget\"]\n",
    "per_school_capita = per_school_budget / per_school_counts\n",
    "\n",
    "# Calculate the average test scores\n",
    "per_school_math = school_data_complete_df.groupby([\"school_name\"]).mean()[\"math_score\"]\n",
    "per_school_reading = school_data_complete_df.groupby([\"school_name\"]).mean()[\"reading_score\"]\n",
    "\n",
    "\n",
    "# Get the students who passed math and passed reading by creating separate filtered DataFrames.\n",
    "school_passing_math = school_data_complete_df[(school_data_complete[\"math_score\"] >= 70)]\n",
    "school_passing_reading = school_data_complete_df[(school_data_complete[\"reading_score\"] >= 70)]\n",
    "\n",
    "# Get the the students who passed both reading and math in a separate DataFrame.\n",
    "passing_math_and_reading = school_data_complete_df[(school_data_complete_df[\"reading_score\"] >= 70)\n",
    "                                               & (school_data_complete_df[\"math_score\"] >= 70)]\n",
    "#  Calculate the Percentage Pass Rates\n",
    "per_school_passing_math = school_passing_math.groupby([\"school_name\"]).count()[\"student_name\"] / per_school_counts * 100\n",
    "per_school_passing_reading = school_passing_reading.groupby([\"school_name\"]).count()[\"student_name\"] / per_school_counts * 100\n",
    "overall_passing_rate = passing_math_and_reading.groupby([\"school_name\"]).count()[\"student_name\"] / per_school_counts * 100\n",
    "\n",
    "per_school_summary = pd.DataFrame({\"School Type\": school_types,\n",
    "                                   \"Total Students\": per_school_counts,\n",
    "                                   \"Total School Budget\": per_school_budget,\n",
    "                                   \"Per Student Budget\": per_school_capita,\n",
    "                                   \"Average Math Score\": per_school_math,\n",
    "                                   \"Average Reading Score\": per_school_reading,\n",
    "                                   \"% Passing Math\": per_school_passing_math,\n",
    "                                   \"% Passing Reading\": per_school_passing_reading,\n",
    "                                   \"% Overall Passing\": overall_passing_rate})\n",
    "\n",
    "# Minor data munging\n",
    "per_school_summary = per_school_summary[[\"School Type\", \"Total Students\", \"Total School Budget\", \"Per Student Budget\",\n",
    "                                         \"Average Math Score\", \"Average Reading Score\", \n",
    "                                         \"% Passing Math\", \"% Passing Reading\", \n",
    "                                         \"% Overall Passing\"]]\n",
    "per_school_summary[\"Total School Budget\"] = per_school_summary[\"Total School Budget\"].map(\"${:,.2f}\".format)\n",
    "per_school_summary[\"Per Student Budget\"] = per_school_summary[\"Per Student Budget\"].map(\"${:,.2f}\".format)\n",
    "\n",
    "# Display the DataFrame\n",
    "per_school_summary"
   ]
  },
  {
   "cell_type": "markdown",
   "metadata": {},
   "source": [
    "## Top Performing Schools (By % Overall Passing)"
   ]
  },
  {
   "cell_type": "markdown",
   "metadata": {},
   "source": [
    "* Sort and display the top five performing schools by % overall passing."
   ]
  },
  {
   "cell_type": "code",
   "execution_count": null,
   "metadata": {
    "scrolled": true
   },
   "outputs": [],
   "source": [
    "sorted_Dpct_df = school_name_reordered_df.sort_values(\"Overall Passing Percentage\", ascending=False)\n",
    "\n",
    "sorted_Dpct_df.head()"
   ]
  },
  {
   "cell_type": "markdown",
   "metadata": {},
   "source": [
    "## Bottom Performing Schools (By % Overall Passing)"
   ]
  },
  {
   "cell_type": "markdown",
   "metadata": {},
   "source": [
    "* Sort and display the five worst-performing schools by % overall passing."
   ]
  },
  {
   "cell_type": "markdown",
   "metadata": {
    "collapsed": true
   },
   "source": [
    "## Math Scores by Grade"
   ]
  },
  {
   "cell_type": "code",
   "execution_count": null,
   "metadata": {},
   "outputs": [],
   "source": [
    "sorted_Apct_df = school_name_reordered_df.sort_values(\"Overall Passing Percentage\", ascending=True)\n",
    "\n",
    "sorted_Apct_df"
   ]
  },
  {
   "cell_type": "raw",
   "metadata": {},
   "source": [
    "* Create a table that lists the average Reading Score for students of each grade level (9th, 10th, 11th, 12th) at each school.\n",
    "\n",
    "  * Create a pandas series for each grade. Hint: use a conditional statement.\n",
    "  \n",
    "  * Group each series by school\n",
    "  \n",
    "  * Combine the series into a dataframe\n",
    "  \n",
    "  * Optional: give the displayed data cleaner formatting"
   ]
  },
  {
   "cell_type": "code",
   "execution_count": null,
   "metadata": {},
   "outputs": [],
   "source": [
    "# school_data_complete_df.head()\n",
    "\n",
    "Nine_df = school_data_complete_df.loc[school_data_complete_df[\"grade\"] == \"9th\",:].groupby([\"School Name\"])\n",
    "Nine_ave_df = Nine_df[\"math_score\"].mean()\n",
    "Ten_df = school_data_complete_df.loc[school_data_complete_df[\"grade\"] == \"10th\",:].groupby([\"School Name\"])\n",
    "Ten_ave_df = Ten_df[\"math_score\"].mean()\n",
    "Eleven_df = school_data_complete_df.loc[school_data_complete_df[\"grade\"] == \"11th\",:].groupby([\"School Name\"])\n",
    "Eleven_ave_df = Eleven_df[\"math_score\"].mean()\n",
    "Twelve_df = school_data_complete_df.loc[school_data_complete_df[\"grade\"] == \"12th\",:].groupby([\"School Name\"])\n",
    "Twelve_ave_df = Twelve_df[\"math_score\"].mean()\n",
    "\n",
    "\n",
    "    \n",
    "math_mean_df = pd.DataFrame({\"9th\": Nine_ave_df, \n",
    "                    \"10th\": Ten_ave_df,\n",
    "                    \"11th\": Eleven_ave_df,\n",
    "                    \"12th\": Twelve_ave_df})\n",
    "math_mean_df.head(15)\n",
    "\n"
   ]
  },
  {
   "cell_type": "markdown",
   "metadata": {},
   "source": [
    "## Reading Score by Grade "
   ]
  },
  {
   "cell_type": "markdown",
   "metadata": {},
   "source": [
    "* Perform the same operations as above for reading scores"
   ]
  },
  {
   "cell_type": "code",
   "execution_count": null,
   "metadata": {},
   "outputs": [],
   "source": [
    "# school_data_complete_df.head()\n",
    "\n",
    "Nine1_df = school_data_complete_df.loc[school_data_complete_df[\"grade\"] == \"9th\",:].groupby([\"School Name\"])\n",
    "Nine1_ave_df = Nine_df[\"reading_score\"].mean()\n",
    "Ten1_df = school_data_complete_df.loc[school_data_complete_df[\"grade\"] == \"10th\",:].groupby([\"School Name\"])\n",
    "Ten1_ave_df = Ten_df[\"reading_score\"].mean()\n",
    "Eleven1_df = school_data_complete_df.loc[school_data_complete_df[\"grade\"] == \"11th\",:].groupby([\"School Name\"])\n",
    "Eleven1_ave_df = Eleven_df[\"reading_score\"].mean()\n",
    "Twelve1_df = school_data_complete_df.loc[school_data_complete_df[\"grade\"] == \"12th\",:].groupby([\"School Name\"])\n",
    "Twelve1_ave_df = Twelve_df[\"reading_score\"].mean()\n",
    "\n",
    "\n",
    "    \n",
    "reading_mean_df = pd.DataFrame({\"9th\": Nine1_ave_df, \n",
    "                    \"10th\": Ten1_ave_df,\n",
    "                    \"11th\": Eleven1_ave_df,\n",
    "                    \"12th\": Twelve1_ave_df})\n",
    "reading_mean_df.head(15)\n",
    "\n"
   ]
  },
  {
   "cell_type": "markdown",
   "metadata": {},
   "source": [
    "## Scores by School Spending"
   ]
  },
  {
   "cell_type": "markdown",
   "metadata": {},
   "source": [
    "* Create a table that breaks down school performances based on average Spending Ranges (Per Student). Use 4 reasonable bins to group school spending. Include in the table each of the following:\n",
    "  * Average Math Score\n",
    "  * Average Reading Score\n",
    "  * % Passing Math\n",
    "  * % Passing Reading\n",
    "  * Overall Passing Rate (Average of the above two)"
   ]
  },
  {
   "cell_type": "code",
   "execution_count": null,
   "metadata": {},
   "outputs": [],
   "source": [
    "bins = [0, 7261.23, 10796.94, 14536.75, 1000000000000]\n",
    "\n",
    "groups= [\"<$7261.23\",\"$7261.23 - $10796.94\",\"$10796.94 - $57726.99\",\"$57726.99 >\"]\n",
    "\n",
    "# StudentsPerSchool_bins = school_data_complete_df[\"student_name\"].count()\n",
    "# TotalBudget1_bins = school_data_complete_df[\"budget\"].unique().astype(float)\n",
    "# TotalBudget_bins = TotalBudget1_bins.sum()\n",
    "# BudgetPerStudent_bins = (TotalBudget_bins.sum()/StudentsPerSchool_bins)\n",
    "\n",
    "# AverageMath_B = school_data_complete_df[\"math_score\"].mean()\n",
    "# AverageReading_B = school_data_complete_df[\"reading_score\"].mean()\n",
    "\n",
    "# PassingMath2 = school_data_complete_df.loc[school_data_complete_df[\"math_score\"] >= 70,:]\n",
    "# PassingMathPct2 = (PassingMath2[\"student_name\"].count()/ StudentsPerSchool_bins) * 100 \n",
    "\n",
    "# PassingReading2 = school_data_complete_df.loc[school_data_complete_df[\"reading_score\"] >= 70,:] \n",
    "# PassingReadingPc2t = (PassingReading2[\"student_name\"].count()/ StudentsPerSchool_bins) * 100 \n",
    "\n",
    "# OverallPassing2 = school_data_complete_df.loc[(school_data_complete_df[\"math_score\"] >= 70) & (school_data_complete_df[\"reading_score\"] >= 70),:]\n",
    "# OverallPassingPct2 = (OverallPassing2[\"student_name\"].count()/ StudentsPerSchool_bins) * 100 \n",
    "\n",
    "# Spending_Ranges_df = pd.DataFrame({\"Average Math Score\": AverageMath_B, \n",
    "#                     \"Average Reading Score\": AverageReading_B,\n",
    "#                     \"Passing Math Percentage\": PassingMathPct2,\n",
    "#                     \"Passing Reading Percentage\": PassingReadingPc2t, \n",
    "#                     \"Overall Passing Percentage\": OverallPassingPct2,\n",
    "#                     \"Budget Per Student\": BudgetPerStudent})\n",
    "\n",
    "Spending_Ranges_df = school_name_reordered_df[[\"Per Student Budget\",\"Average Math Score\",\"Average Reading Score\",\"Passing Math Percentage\",\"Passing Reading Percentage\",\"Overall Passing Percentage\"]]\n",
    "\n",
    "Spending_Ranges_df[\"Spending Ranges\"] = pd.cut(Spending_Ranges_df[\"Per Student Budget\"], bins, labels=groups, include_lowest=True)\n",
    "\n",
    "Spending_Ranges_df2 = Spending_Ranges_df.groupby(\"Spending Ranges\")\n",
    "\n",
    "Spending_Ranges_df2.max()\n",
    "\n",
    "\n",
    "\n",
    "\n",
    "\n",
    "\n",
    "\n",
    "\n",
    "\n"
   ]
  },
  {
   "cell_type": "markdown",
   "metadata": {},
   "source": [
    "## Scores by School Size"
   ]
  },
  {
   "cell_type": "markdown",
   "metadata": {},
   "source": [
    "* Perform the same operations as above, based on school size."
   ]
  },
  {
   "cell_type": "code",
   "execution_count": null,
   "metadata": {
    "scrolled": true
   },
   "outputs": [],
   "source": [
    "school_bins = [0, 1000, 2000, 5000]\n",
    "\n",
    "school_groups= [\"Small (<1000)\",\"Medium (1000 - 2000)\",\"Large (2000 - 5000)\",]\n",
    "\n",
    "School_size_df = school_name_reordered_df[[\"Total Students\",\"Average Math Score\",\"Average Reading Score\",\"Passing Math Percentage\",\"Passing Reading Percentage\",\"Overall Passing Percentage\"]]\n",
    "\n",
    "School_size_df[\"Spending Ranges\"] = pd.cut(School_size_df[\"Total Students\"], school_bins, labels=school_groups, include_lowest=True)\n",
    "\n",
    "School_size_df2 = School_size_df.groupby(\"Spending Ranges\")\n",
    "\n",
    "School_size_df2.max()\n"
   ]
  },
  {
   "cell_type": "markdown",
   "metadata": {},
   "source": [
    "## Scores by School Type"
   ]
  },
  {
   "cell_type": "markdown",
   "metadata": {},
   "source": [
    "* Perform the same operations as above, based on school type"
   ]
  },
  {
   "cell_type": "code",
   "execution_count": null,
   "metadata": {},
   "outputs": [],
   "source": [
    "School_type_df = school_name_reordered_df[[\"School Type\",\"Average Math Score\",\"Average Reading Score\",\"Passing Math Percentage\",\"Passing Reading Percentage\",\"Overall Passing Percentage\"]]\n",
    "\n",
    "\n",
    "School_type_df2 = School_type_df.groupby([\"School Type\"])\n",
    "School_type_df2.max()"
   ]
  },
  {
   "cell_type": "code",
   "execution_count": null,
   "metadata": {},
   "outputs": [],
   "source": []
  }
 ],
 "metadata": {
  "anaconda-cloud": {},
  "kernel_info": {
   "name": "python3"
  },
  "kernelspec": {
   "display_name": "Python 3",
   "language": "python",
   "name": "python3"
  },
  "language_info": {
   "codemirror_mode": {
    "name": "ipython",
    "version": 3
   },
   "file_extension": ".py",
   "mimetype": "text/x-python",
   "name": "python",
   "nbconvert_exporter": "python",
   "pygments_lexer": "ipython3",
   "version": "3.7.4"
  },
  "latex_envs": {
   "LaTeX_envs_menu_present": true,
   "autoclose": false,
   "autocomplete": true,
   "bibliofile": "biblio.bib",
   "cite_by": "apalike",
   "current_citInitial": 1,
   "eqLabelWithNumbers": true,
   "eqNumInitial": 1,
   "hotkeys": {
    "equation": "Ctrl-E",
    "itemize": "Ctrl-I"
   },
   "labels_anchors": false,
   "latex_user_defs": false,
   "report_style_numbering": false,
   "user_envs_cfg": false
  },
  "nteract": {
   "version": "0.8.4"
  }
 },
 "nbformat": 4,
 "nbformat_minor": 1
}
